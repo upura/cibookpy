{
 "cells": [
  {
   "cell_type": "code",
   "execution_count": 1,
   "metadata": {},
   "outputs": [],
   "source": [
    "# (1) パッケージをインストールする（初回のみ）\n",
    "# !pip install pandas scipy numpy"
   ]
  },
  {
   "cell_type": "code",
   "execution_count": 2,
   "metadata": {},
   "outputs": [],
   "source": [
    "# (2) ライブラリの読み出し\n",
    "import pandas as pd\n",
    "import numpy as np\n",
    "from scipy import stats\n",
    "import random"
   ]
  },
  {
   "cell_type": "code",
   "execution_count": 3,
   "metadata": {},
   "outputs": [],
   "source": [
    "# (3) データの読み込み\n",
    "email_data = pd.read_csv(\"http://www.minethatdata.com/Kevin_Hillstrom_MineThatData_E-MailAnalytics_DataMiningChallenge_2008.03.20.csv\")"
   ]
  },
  {
   "cell_type": "code",
   "execution_count": 4,
   "metadata": {},
   "outputs": [],
   "source": [
    "# (4) データの準備\n",
    "## 女性向けメールが配信されたデータを削除したデータを作成\n",
    "male_df = email_data.query('segment != \"Womens E-Mail\"').reset_index(drop=True)\n",
    "male_df['treatment'] = (male_df['segment'] == \"Mens E-Mail\").astype(int)"
   ]
  },
  {
   "cell_type": "code",
   "execution_count": 5,
   "metadata": {},
   "outputs": [
    {
     "data": {
      "text/html": [
       "<div>\n",
       "<style scoped>\n",
       "    .dataframe tbody tr th:only-of-type {\n",
       "        vertical-align: middle;\n",
       "    }\n",
       "\n",
       "    .dataframe tbody tr th {\n",
       "        vertical-align: top;\n",
       "    }\n",
       "\n",
       "    .dataframe thead tr th {\n",
       "        text-align: left;\n",
       "    }\n",
       "\n",
       "    .dataframe thead tr:last-of-type th {\n",
       "        text-align: right;\n",
       "    }\n",
       "</style>\n",
       "<table border=\"1\" class=\"dataframe\">\n",
       "  <thead>\n",
       "    <tr>\n",
       "      <th></th>\n",
       "      <th colspan=\"2\" halign=\"left\">conversion</th>\n",
       "      <th colspan=\"2\" halign=\"left\">spend</th>\n",
       "    </tr>\n",
       "    <tr>\n",
       "      <th></th>\n",
       "      <th>mean</th>\n",
       "      <th>count</th>\n",
       "      <th>mean</th>\n",
       "      <th>count</th>\n",
       "    </tr>\n",
       "    <tr>\n",
       "      <th>treatment</th>\n",
       "      <th></th>\n",
       "      <th></th>\n",
       "      <th></th>\n",
       "      <th></th>\n",
       "    </tr>\n",
       "  </thead>\n",
       "  <tbody>\n",
       "    <tr>\n",
       "      <th>0</th>\n",
       "      <td>0.005726</td>\n",
       "      <td>21306</td>\n",
       "      <td>0.652789</td>\n",
       "      <td>21306</td>\n",
       "    </tr>\n",
       "    <tr>\n",
       "      <th>1</th>\n",
       "      <td>0.012531</td>\n",
       "      <td>21307</td>\n",
       "      <td>1.422617</td>\n",
       "      <td>21307</td>\n",
       "    </tr>\n",
       "  </tbody>\n",
       "</table>\n",
       "</div>"
      ],
      "text/plain": [
       "          conversion            spend       \n",
       "                mean  count      mean  count\n",
       "treatment                                   \n",
       "0           0.005726  21306  0.652789  21306\n",
       "1           0.012531  21307  1.422617  21307"
      ]
     },
     "execution_count": 5,
     "metadata": {},
     "output_type": "execute_result"
    }
   ],
   "source": [
    "# (5) 集計による比較\n",
    "## group_byとsummairseを使って集計\n",
    "male_df.groupby('treatment')[['conversion', 'spend']].agg(['mean', 'count'])"
   ]
  },
  {
   "cell_type": "code",
   "execution_count": 6,
   "metadata": {},
   "outputs": [],
   "source": [
    "# (6) t検定を行う\n",
    "## (a)男性向けメールが配信されたグループの購買データを得る\n",
    "mens_mail = male_df.query('treatment == 1')['spend']\n",
    "## (b)メールが配信されなかったグループの購買データを得る\n",
    "no_mail = male_df.query('treatment == 0')['spend']"
   ]
  },
  {
   "cell_type": "code",
   "execution_count": 7,
   "metadata": {},
   "outputs": [
    {
     "data": {
      "text/plain": [
       "Ttest_indResult(statistic=5.300090294465472, pvalue=1.163200872605869e-07)"
      ]
     },
     "execution_count": 7,
     "metadata": {},
     "output_type": "execute_result"
    }
   ],
   "source": [
    "## (a)(b)の平均の差に対して有意差検定を実行する\n",
    "stats.ttest_ind(mens_mail, no_mail)"
   ]
  },
  {
   "cell_type": "code",
   "execution_count": 8,
   "metadata": {},
   "outputs": [],
   "source": [
    "# (7) セレクションバイアスのあるデータの作成\n",
    "## seedを固定する\n",
    "random.seed(0)"
   ]
  },
  {
   "cell_type": "code",
   "execution_count": 9,
   "metadata": {},
   "outputs": [],
   "source": [
    "## 条件に反応するサンプルの量を半分にする\n",
    "obs_rate_c = 0.5\n",
    "obs_rate_t = 0.5"
   ]
  },
  {
   "cell_type": "code",
   "execution_count": 10,
   "metadata": {},
   "outputs": [],
   "source": [
    "## バイアスのあるデータの作成\n",
    "male_df['obs_rate_c'] = np.where((male_df['history'] > 300) |  (male_df['recency'] < 6) | (male_df['channel']== 'Multichannel'),\n",
    "                                                             obs_rate_c, 1)\n",
    "male_df['obs_rate_t'] = np.where((male_df['history'] > 300) |  (male_df['recency'] < 6) | (male_df['channel']== 'Multichannel'),\n",
    "                                                             1, obs_rate_t)\n",
    "male_df['random_number'] = [random.random() for _ in range(len(male_df))]\n",
    "biased_data = male_df.query('(treatment == 0 and random_number < obs_rate_c) or (treatment == 1 and random_number < obs_rate_t)').reset_index(drop=True)"
   ]
  },
  {
   "cell_type": "code",
   "execution_count": 11,
   "metadata": {
    "scrolled": false
   },
   "outputs": [
    {
     "data": {
      "text/html": [
       "<div>\n",
       "<style scoped>\n",
       "    .dataframe tbody tr th:only-of-type {\n",
       "        vertical-align: middle;\n",
       "    }\n",
       "\n",
       "    .dataframe tbody tr th {\n",
       "        vertical-align: top;\n",
       "    }\n",
       "\n",
       "    .dataframe thead tr th {\n",
       "        text-align: left;\n",
       "    }\n",
       "\n",
       "    .dataframe thead tr:last-of-type th {\n",
       "        text-align: right;\n",
       "    }\n",
       "</style>\n",
       "<table border=\"1\" class=\"dataframe\">\n",
       "  <thead>\n",
       "    <tr>\n",
       "      <th></th>\n",
       "      <th colspan=\"2\" halign=\"left\">conversion</th>\n",
       "      <th colspan=\"2\" halign=\"left\">spend</th>\n",
       "    </tr>\n",
       "    <tr>\n",
       "      <th></th>\n",
       "      <th>mean</th>\n",
       "      <th>count</th>\n",
       "      <th>mean</th>\n",
       "      <th>count</th>\n",
       "    </tr>\n",
       "    <tr>\n",
       "      <th>treatment</th>\n",
       "      <th></th>\n",
       "      <th></th>\n",
       "      <th></th>\n",
       "      <th></th>\n",
       "    </tr>\n",
       "  </thead>\n",
       "  <tbody>\n",
       "    <tr>\n",
       "      <th>0</th>\n",
       "      <td>0.005413</td>\n",
       "      <td>14779</td>\n",
       "      <td>0.616096</td>\n",
       "      <td>14779</td>\n",
       "    </tr>\n",
       "    <tr>\n",
       "      <th>1</th>\n",
       "      <td>0.013368</td>\n",
       "      <td>17131</td>\n",
       "      <td>1.553958</td>\n",
       "      <td>17131</td>\n",
       "    </tr>\n",
       "  </tbody>\n",
       "</table>\n",
       "</div>"
      ],
      "text/plain": [
       "          conversion            spend       \n",
       "                mean  count      mean  count\n",
       "treatment                                   \n",
       "0           0.005413  14779  0.616096  14779\n",
       "1           0.013368  17131  1.553958  17131"
      ]
     },
     "execution_count": 11,
     "metadata": {},
     "output_type": "execute_result"
    }
   ],
   "source": [
    "# (8) セレクションバイアスのあるデータで平均を比較\n",
    "## group_byとsummairseを使って集計(Biased)\n",
    "biased_data.groupby('treatment')[['conversion', 'spend']].agg(['mean', 'count'])"
   ]
  },
  {
   "cell_type": "code",
   "execution_count": 12,
   "metadata": {},
   "outputs": [],
   "source": [
    "# (9) Rの関数であるt.testを使ってt検定を行う(Biased)\n",
    "## (a)男性向けメールが配信されたグループの購買データを得る\n",
    "mens_mail_biased = biased_data.query('treatment == 1')['spend']\n",
    "## (b)メールが配信されなかったグループの購買データを得る\n",
    "no_mail_biased = biased_data.query('treatment == 0')['spend']"
   ]
  },
  {
   "cell_type": "code",
   "execution_count": 13,
   "metadata": {},
   "outputs": [
    {
     "data": {
      "text/plain": [
       "Ttest_indResult(statistic=5.30559632407586, pvalue=1.1305338001766832e-07)"
      ]
     },
     "execution_count": 13,
     "metadata": {},
     "output_type": "execute_result"
    }
   ],
   "source": [
    "## (a)(b)の平均の差に対して有意差検定を実行\n",
    "stats.ttest_ind(mens_mail_biased, no_mail_biased)"
   ]
  },
  {
   "cell_type": "code",
   "execution_count": null,
   "metadata": {},
   "outputs": [],
   "source": []
  }
 ],
 "metadata": {
  "kernelspec": {
   "display_name": "Python 3",
   "language": "python",
   "name": "python3"
  },
  "language_info": {
   "codemirror_mode": {
    "name": "ipython",
    "version": 3
   },
   "file_extension": ".py",
   "mimetype": "text/x-python",
   "name": "python",
   "nbconvert_exporter": "python",
   "pygments_lexer": "ipython3",
   "version": "3.6.8"
  }
 },
 "nbformat": 4,
 "nbformat_minor": 2
}
