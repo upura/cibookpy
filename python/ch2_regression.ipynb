{
 "cells": [
  {
   "cell_type": "code",
   "execution_count": 1,
   "metadata": {},
   "outputs": [],
   "source": [
    "# (1) パッケージをインストールする（初回のみ）\n",
    "# !pip install sklearn"
   ]
  },
  {
   "cell_type": "code",
   "execution_count": 2,
   "metadata": {},
   "outputs": [],
   "source": [
    "# (2) ライブラリの読み出し\n",
    "import pandas as pd\n",
    "import numpy as np\n",
    "import random\n",
    "from sklearn.linear_model import LinearRegression"
   ]
  },
  {
   "cell_type": "code",
   "execution_count": 3,
   "metadata": {},
   "outputs": [],
   "source": [
    "# (3) データの読み込み\n",
    "email_data = pd.read_csv(\"http://www.minethatdata.com/Kevin_Hillstrom_MineThatData_E-MailAnalytics_DataMiningChallenge_2008.03.20.csv\")"
   ]
  },
  {
   "cell_type": "code",
   "execution_count": 4,
   "metadata": {},
   "outputs": [],
   "source": [
    "# (4) 女性向けメールが配信されたデータを削除したデータを作成\n",
    "male_df = email_data.query('segment != \"Womens E-Mail\"').reset_index(drop=True)\n",
    "male_df['treatment'] = (male_df['segment'] == \"Mens E-Mail\").astype(int)"
   ]
  },
  {
   "cell_type": "code",
   "execution_count": 5,
   "metadata": {},
   "outputs": [],
   "source": [
    "# (5) セレクションバイアスのあるデータを作成\n",
    "## seedを固定\n",
    "random.seed(0)\n",
    "\n",
    "## 条件に反応するサンプルの量を半分にする\n",
    "obs_rate_c = 0.5\n",
    "obs_rate_t = 0.5\n",
    "\n",
    "## バイアスのあるデータの作成\n",
    "male_df['obs_rate_c'] = np.where((male_df['history'] > 300) |  (male_df['recency'] < 6) | (male_df['channel']== 'Multichannel'),\n",
    "                                                             obs_rate_c, 1)\n",
    "male_df['obs_rate_t'] = np.where((male_df['history'] > 300) |  (male_df['recency'] < 6) | (male_df['channel']== 'Multichannel'),\n",
    "                                                             1, obs_rate_t)\n",
    "male_df['random_number'] = [random.random() for _ in range(len(male_df))]\n",
    "biased_data = male_df.query('(treatment == 0 and random_number < obs_rate_c) or (treatment == 1 and random_number < obs_rate_t)').reset_index(drop=True)"
   ]
  },
  {
   "cell_type": "code",
   "execution_count": 6,
   "metadata": {},
   "outputs": [
    {
     "data": {
      "text/plain": [
       "array([0.83272547, 0.00145485])"
      ]
     },
     "execution_count": 6,
     "metadata": {},
     "output_type": "execute_result"
    }
   ],
   "source": [
    "# (6) バイアスのあるデータでの回帰分析\n",
    "## 回帰分析の実行\n",
    "biased_reg = LinearRegression().fit(biased_data[['treatment', 'history']], biased_data['spend'])\n",
    "biased_reg.coef_"
   ]
  },
  {
   "cell_type": "code",
   "execution_count": 7,
   "metadata": {},
   "outputs": [
    {
     "data": {
      "text/plain": [
       "array([0.76982716])"
      ]
     },
     "execution_count": 7,
     "metadata": {},
     "output_type": "execute_result"
    }
   ],
   "source": [
    "# (7) RCTデータでの回帰分析とバイアスのあるデータでの回帰分析の比較\n",
    "## RCTデータでの単回帰\n",
    "rct_reg = LinearRegression().fit(male_df[['treatment']], male_df['spend'])\n",
    "rct_reg.coef_"
   ]
  },
  {
   "cell_type": "code",
   "execution_count": 8,
   "metadata": {},
   "outputs": [
    {
     "data": {
      "text/plain": [
       "array([0.93786193])"
      ]
     },
     "execution_count": 8,
     "metadata": {},
     "output_type": "execute_result"
    }
   ],
   "source": [
    "## バイアスのあるデータでの単回帰\n",
    "nonrct_reg = LinearRegression().fit(biased_data[['treatment']], biased_data['spend'])\n",
    "nonrct_reg.coef_"
   ]
  },
  {
   "cell_type": "code",
   "execution_count": 9,
   "metadata": {},
   "outputs": [
    {
     "data": {
      "text/plain": [
       "array([ 0.78399264, -0.03886176, -0.21631642,  0.00150815])"
      ]
     },
     "execution_count": 9,
     "metadata": {},
     "output_type": "execute_result"
    }
   ],
   "source": [
    "## バイアスのあるデータでの重回帰\n",
    "biased_data['channel'] = biased_data['channel'].map({'Web': 0, 'Phone': 1, 'Multichannel': 2})\n",
    "nonrct_mreg = LinearRegression().fit(biased_data[['treatment', 'recency', 'channel', 'history']], biased_data['spend'])\n",
    "nonrct_mreg.coef_"
   ]
  },
  {
   "cell_type": "code",
   "execution_count": 10,
   "metadata": {},
   "outputs": [],
   "source": [
    "# (8) OVBの確認\n",
    "## (a) history抜きの回帰分析とパラメーターの取り出し\n",
    "alpha_1 = LinearRegression().fit(biased_data[['treatment', 'recency', 'channel']], biased_data['spend']).coef_[0]\n",
    "beta_1 = LinearRegression().fit(biased_data[['treatment', 'recency', 'channel', 'history']], biased_data['spend']).coef_[0]\n",
    "beta_2 = LinearRegression().fit(biased_data[['treatment', 'recency', 'channel', 'history']], biased_data['spend']).coef_[3]\n",
    "gamma_1 = LinearRegression().fit(biased_data[['treatment', 'recency', 'channel']], biased_data['history']).coef_[0]"
   ]
  },
  {
   "cell_type": "code",
   "execution_count": 11,
   "metadata": {},
   "outputs": [
    {
     "data": {
      "text/plain": [
       "0.05758160277479463"
      ]
     },
     "execution_count": 11,
     "metadata": {},
     "output_type": "execute_result"
    }
   ],
   "source": [
    "beta_2*gamma_1"
   ]
  },
  {
   "cell_type": "code",
   "execution_count": 12,
   "metadata": {},
   "outputs": [
    {
     "data": {
      "text/plain": [
       "0.057581602774794294"
      ]
     },
     "execution_count": 12,
     "metadata": {},
     "output_type": "execute_result"
    }
   ],
   "source": [
    "alpha_1 - beta_1"
   ]
  },
  {
   "cell_type": "code",
   "execution_count": 13,
   "metadata": {},
   "outputs": [
    {
     "data": {
      "text/plain": [
       "array([ 1.49314279e-01,  2.18560484e-02, -2.90465912e-02,  1.42460758e-04])"
      ]
     },
     "execution_count": 13,
     "metadata": {},
     "output_type": "execute_result"
    }
   ],
   "source": [
    "# (10) 入れてはいけない変数を入れてみる\n",
    "#visitとtreatmentとの相関\n",
    "cor_visit_treatment = LinearRegression().fit(biased_data[['visit', 'channel', 'recency', 'history']], biased_data['treatment'])\n",
    "cor_visit_treatment.coef_"
   ]
  },
  {
   "cell_type": "code",
   "execution_count": 14,
   "metadata": {},
   "outputs": [
    {
     "data": {
      "text/plain": [
       "array([ 1.88836771e-01, -8.13474538e-02,  9.41359577e-03,  9.10288118e-04,\n",
       "        7.40794836e+00])"
      ]
     },
     "execution_count": 14,
     "metadata": {},
     "output_type": "execute_result"
    }
   ],
   "source": [
    "# visitを入れた回帰分析を実行\n",
    "bad_control_reg = LinearRegression().fit(biased_data[['treatment', 'channel', 'recency', 'history', 'visit']], biased_data['spend'])\n",
    "bad_control_reg.coef_"
   ]
  },
  {
   "cell_type": "code",
   "execution_count": null,
   "metadata": {},
   "outputs": [],
   "source": []
  }
 ],
 "metadata": {
  "kernelspec": {
   "display_name": "Python 3",
   "language": "python",
   "name": "python3"
  },
  "language_info": {
   "codemirror_mode": {
    "name": "ipython",
    "version": 3
   },
   "file_extension": ".py",
   "mimetype": "text/x-python",
   "name": "python",
   "nbconvert_exporter": "python",
   "pygments_lexer": "ipython3",
   "version": "3.6.8"
  }
 },
 "nbformat": 4,
 "nbformat_minor": 2
}
