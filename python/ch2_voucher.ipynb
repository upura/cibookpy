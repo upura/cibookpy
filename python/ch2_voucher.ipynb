{
 "cells": [
  {
   "cell_type": "code",
   "execution_count": 1,
   "metadata": {
    "scrolled": true
   },
   "outputs": [],
   "source": [
    "# (1) 利用するデータを持つライブラリのインストール（初回のみ）\n",
    "# !pip install rdata"
   ]
  },
  {
   "cell_type": "code",
   "execution_count": 2,
   "metadata": {},
   "outputs": [
    {
     "name": "stderr",
     "output_type": "stream",
     "text": [
      "/Users/shotaroishihara/.pyenv/versions/anaconda3-5.0.0/lib/python3.6/site-packages/rdata/conversion/_conversion.py:495: UserWarning: Missing constructor for R class \"tbl_df\". The constructor for class \"tbl\" will be used instead.\n",
      "  stacklevel=1)\n",
      "/Users/shotaroishihara/.pyenv/versions/anaconda3-5.0.0/lib/python3.6/site-packages/rdata/conversion/_conversion.py:495: UserWarning: Missing constructor for R class \"tbl\". The constructor for class \"data.frame\" will be used instead.\n",
      "  stacklevel=1)\n"
     ]
    }
   ],
   "source": [
    "# (2) ライブラリとデータの読み込み\n",
    "import pandas as pd\n",
    "import rdata\n",
    "from sklearn.linear_model import LinearRegression\n",
    "import matplotlib.pyplot as plt\n",
    "%matplotlib inline\n",
    "\n",
    "\n",
    "parsed = rdata.parser.parse_file('../data/vouchers.rda')\n",
    "converted = rdata.conversion.convert(parsed)\n",
    "vouchers = converted['vouchers']"
   ]
  },
  {
   "cell_type": "code",
   "execution_count": 3,
   "metadata": {},
   "outputs": [],
   "source": [
    "# (3) Angrist(2002)のTable 3. bogota 1995の再現\n",
    "## 回帰式の準備\n",
    "### 回帰式で使う文字列の準備\n",
    "formula_x_base = 'VOUCH0'\n",
    "formula_x_covariate = [\n",
    "    'SVY', 'HSVISIT', 'AGE', 'STRATA1', 'STRATA2', 'STRATA3', 'STRATA4', 'STRATA5', 'STRATA6', 'STRATAMS',\n",
    "    'D1993', 'D1995', 'D1997', 'DMONTH1', 'DMONTH2', 'DMONTH3', 'DMONTH4', 'DMONTH5', 'DMONTH6',\n",
    "    'DMONTH7', 'DMONTH8', 'DMONTH9', 'DMONTH10', 'DMONTH11', 'DMONTH12', 'SEX2'\n",
    "]\n",
    "formula_y = [\n",
    "    \"TOTSCYRS\",\"INSCHL\",\"PRSCH_C\",\"USNGSCH\",\"PRSCHA_1\",\"FINISH6\",\"FINISH7\",\"FINISH8\",\"REPT6\",\n",
    "    \"REPT\",\"NREPT\",\"MARRIED\",\"HASCHILD\",\"HOURSUM\",\"WORKING3\"\n",
    "]"
   ]
  },
  {
   "cell_type": "code",
   "execution_count": 4,
   "metadata": {},
   "outputs": [
    {
     "data": {
      "text/html": [
       "<div>\n",
       "<style scoped>\n",
       "    .dataframe tbody tr th:only-of-type {\n",
       "        vertical-align: middle;\n",
       "    }\n",
       "\n",
       "    .dataframe tbody tr th {\n",
       "        vertical-align: top;\n",
       "    }\n",
       "\n",
       "    .dataframe thead th {\n",
       "        text-align: right;\n",
       "    }\n",
       "</style>\n",
       "<table border=\"1\" class=\"dataframe\">\n",
       "  <thead>\n",
       "    <tr style=\"text-align: right;\">\n",
       "      <th></th>\n",
       "      <th>ID</th>\n",
       "      <th>BOG95SMP</th>\n",
       "      <th>BOG97SMP</th>\n",
       "      <th>JAM93SMP</th>\n",
       "      <th>SEX</th>\n",
       "      <th>AGE</th>\n",
       "      <th>AGE2</th>\n",
       "      <th>HSVISIT</th>\n",
       "      <th>SCYFNSH</th>\n",
       "      <th>INSCHL</th>\n",
       "      <th>...</th>\n",
       "      <th>REPT</th>\n",
       "      <th>NREPT</th>\n",
       "      <th>FINISH6</th>\n",
       "      <th>FINISH7</th>\n",
       "      <th>FINISH8</th>\n",
       "      <th>SEX_MISS</th>\n",
       "      <th>USNGSCH</th>\n",
       "      <th>HOURSUM</th>\n",
       "      <th>TAB3SMPL</th>\n",
       "      <th>WORKING3</th>\n",
       "    </tr>\n",
       "  </thead>\n",
       "  <tbody>\n",
       "    <tr>\n",
       "      <th>0</th>\n",
       "      <td>NaN</td>\n",
       "      <td>0.0</td>\n",
       "      <td>0.0</td>\n",
       "      <td>0.0</td>\n",
       "      <td>NaN</td>\n",
       "      <td>NaN</td>\n",
       "      <td>NaN</td>\n",
       "      <td>NaN</td>\n",
       "      <td>5.0</td>\n",
       "      <td>NaN</td>\n",
       "      <td>...</td>\n",
       "      <td>NaN</td>\n",
       "      <td>NaN</td>\n",
       "      <td>NaN</td>\n",
       "      <td>NaN</td>\n",
       "      <td>NaN</td>\n",
       "      <td>NaN</td>\n",
       "      <td>NaN</td>\n",
       "      <td>NaN</td>\n",
       "      <td>NaN</td>\n",
       "      <td>NaN</td>\n",
       "    </tr>\n",
       "    <tr>\n",
       "      <th>1</th>\n",
       "      <td>1.0</td>\n",
       "      <td>0.0</td>\n",
       "      <td>0.0</td>\n",
       "      <td>0.0</td>\n",
       "      <td>1.0</td>\n",
       "      <td>NaN</td>\n",
       "      <td>12.0</td>\n",
       "      <td>NaN</td>\n",
       "      <td>5.0</td>\n",
       "      <td>NaN</td>\n",
       "      <td>...</td>\n",
       "      <td>NaN</td>\n",
       "      <td>NaN</td>\n",
       "      <td>NaN</td>\n",
       "      <td>NaN</td>\n",
       "      <td>NaN</td>\n",
       "      <td>NaN</td>\n",
       "      <td>NaN</td>\n",
       "      <td>NaN</td>\n",
       "      <td>NaN</td>\n",
       "      <td>NaN</td>\n",
       "    </tr>\n",
       "    <tr>\n",
       "      <th>2</th>\n",
       "      <td>2.0</td>\n",
       "      <td>0.0</td>\n",
       "      <td>0.0</td>\n",
       "      <td>0.0</td>\n",
       "      <td>0.0</td>\n",
       "      <td>NaN</td>\n",
       "      <td>13.0</td>\n",
       "      <td>NaN</td>\n",
       "      <td>5.0</td>\n",
       "      <td>NaN</td>\n",
       "      <td>...</td>\n",
       "      <td>NaN</td>\n",
       "      <td>NaN</td>\n",
       "      <td>NaN</td>\n",
       "      <td>NaN</td>\n",
       "      <td>NaN</td>\n",
       "      <td>NaN</td>\n",
       "      <td>NaN</td>\n",
       "      <td>NaN</td>\n",
       "      <td>NaN</td>\n",
       "      <td>NaN</td>\n",
       "    </tr>\n",
       "    <tr>\n",
       "      <th>3</th>\n",
       "      <td>3.0</td>\n",
       "      <td>1.0</td>\n",
       "      <td>0.0</td>\n",
       "      <td>0.0</td>\n",
       "      <td>0.0</td>\n",
       "      <td>14.0</td>\n",
       "      <td>12.0</td>\n",
       "      <td>0.0</td>\n",
       "      <td>8.0</td>\n",
       "      <td>1.0</td>\n",
       "      <td>...</td>\n",
       "      <td>0.0</td>\n",
       "      <td>0.0</td>\n",
       "      <td>1.0</td>\n",
       "      <td>1.0</td>\n",
       "      <td>1.0</td>\n",
       "      <td>0.0</td>\n",
       "      <td>1.0</td>\n",
       "      <td>0.0</td>\n",
       "      <td>1.0</td>\n",
       "      <td>0.0</td>\n",
       "    </tr>\n",
       "    <tr>\n",
       "      <th>4</th>\n",
       "      <td>4.0</td>\n",
       "      <td>1.0</td>\n",
       "      <td>0.0</td>\n",
       "      <td>0.0</td>\n",
       "      <td>1.0</td>\n",
       "      <td>14.0</td>\n",
       "      <td>12.0</td>\n",
       "      <td>0.0</td>\n",
       "      <td>8.0</td>\n",
       "      <td>1.0</td>\n",
       "      <td>...</td>\n",
       "      <td>0.0</td>\n",
       "      <td>0.0</td>\n",
       "      <td>1.0</td>\n",
       "      <td>1.0</td>\n",
       "      <td>1.0</td>\n",
       "      <td>0.0</td>\n",
       "      <td>1.0</td>\n",
       "      <td>0.0</td>\n",
       "      <td>1.0</td>\n",
       "      <td>0.0</td>\n",
       "    </tr>\n",
       "  </tbody>\n",
       "</table>\n",
       "<p>5 rows × 89 columns</p>\n",
       "</div>"
      ],
      "text/plain": [
       "    ID  BOG95SMP  BOG97SMP  JAM93SMP  SEX   AGE  AGE2  HSVISIT  SCYFNSH  \\\n",
       "0  NaN       0.0       0.0       0.0  NaN   NaN   NaN      NaN      5.0   \n",
       "1  1.0       0.0       0.0       0.0  1.0   NaN  12.0      NaN      5.0   \n",
       "2  2.0       0.0       0.0       0.0  0.0   NaN  13.0      NaN      5.0   \n",
       "3  3.0       1.0       0.0       0.0  0.0  14.0  12.0      0.0      8.0   \n",
       "4  4.0       1.0       0.0       0.0  1.0  14.0  12.0      0.0      8.0   \n",
       "\n",
       "   INSCHL  ...  REPT  NREPT  FINISH6  FINISH7  FINISH8  SEX_MISS  USNGSCH  \\\n",
       "0     NaN  ...   NaN    NaN      NaN      NaN      NaN       NaN      NaN   \n",
       "1     NaN  ...   NaN    NaN      NaN      NaN      NaN       NaN      NaN   \n",
       "2     NaN  ...   NaN    NaN      NaN      NaN      NaN       NaN      NaN   \n",
       "3     1.0  ...   0.0    0.0      1.0      1.0      1.0       0.0      1.0   \n",
       "4     1.0  ...   0.0    0.0      1.0      1.0      1.0       0.0      1.0   \n",
       "\n",
       "   HOURSUM  TAB3SMPL  WORKING3  \n",
       "0      NaN       NaN       NaN  \n",
       "1      NaN       NaN       NaN  \n",
       "2      NaN       NaN       NaN  \n",
       "3      0.0       1.0       0.0  \n",
       "4      0.0       1.0       0.0  \n",
       "\n",
       "[5 rows x 89 columns]"
      ]
     },
     "execution_count": 4,
     "metadata": {},
     "output_type": "execute_result"
    }
   ],
   "source": [
    "vouchers.head()"
   ]
  },
  {
   "cell_type": "code",
   "execution_count": 5,
   "metadata": {},
   "outputs": [],
   "source": [
    "regression_data = vouchers.query('TAB3SMPL == 1and BOG95SMP == 1').reset_index(drop=True)"
   ]
  },
  {
   "cell_type": "code",
   "execution_count": 6,
   "metadata": {},
   "outputs": [],
   "source": [
    "base_reg = []\n",
    "covariate_reg = []\n",
    "for fy in formula_y:\n",
    "    base_reg.append(LinearRegression().fit(regression_data[[formula_x_base]], regression_data[fy].fillna(0)).coef_[0])\n",
    "    covariate_reg.append(LinearRegression().fit(regression_data[[formula_x_base] + formula_x_covariate], regression_data[fy].fillna(0)).coef_[0])"
   ]
  },
  {
   "cell_type": "code",
   "execution_count": 7,
   "metadata": {},
   "outputs": [
    {
     "data": {
      "text/plain": [
       "([<matplotlib.axis.XTick at 0x1c287dd668>,\n",
       "  <matplotlib.axis.XTick at 0x1c287c7f60>,\n",
       "  <matplotlib.axis.XTick at 0x1c2886a278>,\n",
       "  <matplotlib.axis.XTick at 0x1c2886a5c0>,\n",
       "  <matplotlib.axis.XTick at 0x1c2886acc0>,\n",
       "  <matplotlib.axis.XTick at 0x1c288751d0>,\n",
       "  <matplotlib.axis.XTick at 0x1c288756a0>,\n",
       "  <matplotlib.axis.XTick at 0x1c28875b70>,\n",
       "  <matplotlib.axis.XTick at 0x1c2887d0f0>,\n",
       "  <matplotlib.axis.XTick at 0x1c2887d588>,\n",
       "  <matplotlib.axis.XTick at 0x1c287c7c18>,\n",
       "  <matplotlib.axis.XTick at 0x1c2887def0>,\n",
       "  <matplotlib.axis.XTick at 0x1c28896128>,\n",
       "  <matplotlib.axis.XTick at 0x1c288965c0>,\n",
       "  <matplotlib.axis.XTick at 0x1c28896ac8>],\n",
       " <a list of 15 Text xticklabel objects>)"
      ]
     },
     "execution_count": 7,
     "metadata": {},
     "output_type": "execute_result"
    },
    {
     "data": {
      "image/png": "[encoded data removed]",
      "text/plain": [
       "<Figure size 432x288 with 1 Axes>"
      ]
     },
     "metadata": {
      "needs_background": "light"
     },
     "output_type": "display_data"
    }
   ],
   "source": [
    "pd.DataFrame({\n",
    "    'formula_y': formula_y,\n",
    "    'base_reg': base_reg,\n",
    "    'covariate_reg': covariate_reg\n",
    "}).plot.bar()\n",
    "plt.xticks([i for i in range(len(formula_y))], formula_y)"
   ]
  },
  {
   "cell_type": "code",
   "execution_count": null,
   "metadata": {},
   "outputs": [],
   "source": []
  }
 ],
 "metadata": {
  "kernelspec": {
   "display_name": "Python 3",
   "language": "python",
   "name": "python3"
  },
  "language_info": {
   "codemirror_mode": {
    "name": "ipython",
    "version": 3
   },
   "file_extension": ".py",
   "mimetype": "text/x-python",
   "name": "python",
   "nbconvert_exporter": "python",
   "pygments_lexer": "ipython3",
   "version": "3.6.8"
  }
 },
 "nbformat": 4,
 "nbformat_minor": 2
}
